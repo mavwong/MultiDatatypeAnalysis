{
 "cells": [
  {
   "cell_type": "code",
   "execution_count": null,
   "metadata": {},
   "outputs": [],
   "source": [
    "if data_type==\"str\" or data_type==str:\n",
    "    return [1] * int(input_min.shape[0])\n",
    "elif data_type==\"float\" or data_type==float:\n",
    "    min = self.ConvertData.ToFloat(input_min)\n",
    "    max = self.ConvertData.ToFloat(input_max)\n",
    "elif data_type==\"int\" or data_type==int:\n",
    "    min = self.ConvertData.ToInt(input_min)\n",
    "    max = self.ConvertData.ToInt(input_max)\n",
    "elif data_type==\"date\":\n",
    "    min = self.ConvertData.ToDate(input_min)\n",
    "    max = self.ConvertData.ToDate(input_max)\n",
    "else:\n",
    "    raise ValueError (\"The Data Type is invalid.\")"
   ]
  },
  {
   "cell_type": "code",
   "execution_count": null,
   "metadata": {},
   "outputs": [],
   "source": [
    "if data_type==\"float\" or data_type==float:\n",
    "            validate = self.ConvertData.ToFloat(input)\n",
    "        elif data_type==\"int\" or data_type==int:\n",
    "            validate = self.ConvertData.ToInt(input)\n",
    "        else:\n",
    "            raise ValueError(\"The data_type is invalid.\")"
   ]
  },
  {
   "cell_type": "code",
   "execution_count": null,
   "metadata": {},
   "outputs": [],
   "source": [
    "def _transform_to_datatype(self, inputs:Series):\n",
    "        return None"
   ]
  },
  {
   "cell_type": "code",
   "execution_count": null,
   "metadata": {},
   "outputs": [],
   "source": [
    "from pandas import Series\n",
    "\n",
    "def _transform_to_dtype(input:Series, data_type:type=str):\n",
    "    \"\"\" Transform the input into the proper datatype. \"\"\"\n",
    "    if data_type==\"str\" or data_type==str:\n",
    "        return [1] * int(input.shape[0])\n",
    "    elif data_type==\"float\" or data_type==float:\n",
    "        return self.ConvertData.ToFloat(input)\n",
    "    elif data_type==\"int\" or data_type==int:\n",
    "        return self.ConvertData.ToInt(input)\n",
    "    elif data_type==\"date\":\n",
    "        return self.ConvertData.ToDate(input)\n",
    "    else:\n",
    "        raise ValueError(\"The Data Type is invalid.\")\n"
   ]
  }
 ],
 "metadata": {
  "kernelspec": {
   "display_name": "Python 3",
   "language": "python",
   "name": "python3"
  },
  "language_info": {
   "codemirror_mode": {
    "name": "ipython",
    "version": 3
   },
   "file_extension": ".py",
   "mimetype": "text/x-python",
   "name": "python",
   "nbconvert_exporter": "python",
   "pygments_lexer": "ipython3",
   "version": "3.9.7 (tags/v3.9.7:1016ef3, Aug 30 2021, 20:19:38) [MSC v.1929 64 bit (AMD64)]"
  },
  "orig_nbformat": 4,
  "vscode": {
   "interpreter": {
    "hash": "9dbeb5ce428497f4d719213df2f5116e0feff6e4e81b16e467766bfc557b8daa"
   }
  }
 },
 "nbformat": 4,
 "nbformat_minor": 2
}
